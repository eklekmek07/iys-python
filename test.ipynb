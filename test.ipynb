{
 "cells": [
  {
   "cell_type": "code",
   "execution_count": 198,
   "metadata": {},
   "outputs": [],
   "source": [
    "import requests\n",
    "from json import loads as json_loads, dumps as json_dumps\n",
    "from time import sleep\n",
    "import pprint"
   ]
  },
  {
   "cell_type": "code",
   "execution_count": 179,
   "metadata": {},
   "outputs": [],
   "source": [
    "generic_try_again_error_msg = 'Beklenmeyen bir hata oluştu, lütfen kısa bir süre içerisinde tekrar deneyiniz.'"
   ]
  },
  {
   "cell_type": "code",
   "execution_count": 180,
   "metadata": {},
   "outputs": [],
   "source": [
    "phone_number = input(\"phone\")"
   ]
  },
  {
   "cell_type": "code",
   "execution_count": 181,
   "metadata": {},
   "outputs": [],
   "source": [
    "s = requests.session()"
   ]
  },
  {
   "cell_type": "code",
   "execution_count": 182,
   "metadata": {},
   "outputs": [],
   "source": [
    "# Get sms verification code\n",
    "payload = {\n",
    "  \"recipient\": phone_number\n",
    "}\n",
    "sms_verification_response = s.post(\"https://vatandas.iys.org.tr/api/v1/cbff/recipients\", data=payload)\n",
    "try:\n",
    "    if json_loads(sms_verification_response.content)[\"error\"][\"summary\"] == generic_try_again_error_msg:\n",
    "        print(\"Lütfen 1 dakika bekleyin..\")\n",
    "except KeyError:\n",
    "    oid = json_loads(sms_verification_response.content.decode())[\"payload\"][\"id\"]"
   ]
  },
  {
   "cell_type": "code",
   "execution_count": null,
   "metadata": {},
   "outputs": [],
   "source": [
    "# Get token with sms verification code\n",
    "sms_code = input(\"=>\")\n",
    "login_response = s.post(\"https://giris.iys.org.tr/auth/realms/citizen/protocol/openid-connect/token\", data= {\n",
    "    \"client_id\": \"e-devlet\",\n",
    "    \"grant_type\": \"password\",\n",
    "    \"recipient\": phone_number,\n",
    "    \"oid\": oid,\n",
    "    \"code\": sms_code\n",
    "})\n",
    "token = json_loads(login_response.content)[\"access_token\"]\n",
    "print(token)\n",
    "login_response.headers"
   ]
  },
  {
   "cell_type": "code",
   "execution_count": 185,
   "metadata": {},
   "outputs": [],
   "source": [
    "# Authorizated header\n",
    "headers = {\n",
    "    'Authorization': f'Bearer {token}',\n",
    "}"
   ]
  },
  {
   "cell_type": "code",
   "execution_count": null,
   "metadata": {},
   "outputs": [],
   "source": [
    "# Get brand list\n",
    "payload = json_dumps({\n",
    "  \"recipient\": phone_number\n",
    "})\n",
    "_link = \"https://vatandas.iys.org.tr/api/v1/cgw/recipients/BIREYSEL/brands/search/\"\n",
    "list_response = s.post(_link, headers=headers, data=payload)\n",
    "brand_list = json_loads(list_response.content)[\"list\"]\n",
    "list_response"
   ]
  },
  {
   "cell_type": "code",
   "execution_count": null,
   "metadata": {},
   "outputs": [],
   "source": [
    "headers = {\n",
    "  'Authorization': f'Bearer {token}',\n",
    "  'Connection': 'keep-alive',\n",
    "  'Content-Type': 'application/json',\n",
    "  'DNT': '1',\n",
    "  'Origin': 'https://vatandas.iys.org.tr',\n",
    "  'Referer': 'https://vatandas.iys.org.tr/izinlerim/onay-ret',\n",
    "  'Sec-Fetch-Dest': 'empty',\n",
    "  'Sec-Fetch-Mode': 'cors',\n",
    "  'Sec-Fetch-Site': 'same-origin',\n",
    "  'Sec-GPC': '1',\n",
    "  'User-Agent': 'Mozilla/5.0 (Macintosh; Intel Mac OS X 10_15_7) AppleWebKit/537.36 (KHTML, like Gecko) Chrome/116.0.0.0 Safari/537.36',\n",
    "  'sec-ch-ua': '\"Chromium\";v=\"116\", \"Not)A;Brand\";v=\"24\", \"Brave\";v=\"116\"',\n",
    "  'sec-ch-ua-mobile': '?0',\n",
    "  'sec-ch-ua-platform': '\"macOS\"'\n",
    "}\n",
    "for brand in brand_list:\n",
    "    reach_type = brand[\"type\"]\n",
    "    brand_code = brand[\"brandCode\"]\n",
    "    if brand[\"status\"] == \"ONAY\":\n",
    "        \n",
    "        url = f\"https://vatandas.iys.org.tr/api/v1/cgw/recipients/BIREYSEL/brands/{brand_code}/consent/update\"\n",
    "        payload = json_dumps({\n",
    "            \"recipient\": phone_number,\n",
    "            \"status\": \"RET\",\n",
    "            \"type\": reach_type\n",
    "            })\n",
    "        response = s.request(\"POST\", url, headers=headers, data=payload)\n",
    "        sleep(3)\n",
    "        if response.status_code != 200:\n",
    "            print(\"Error with the transaction\")\n",
    "            break\n",
    "        print(brand[\"brandCode\"],brand[\"brandName\"], brand[\"type\"], \"RET\")\n"
   ]
  }
 ],
 "metadata": {
  "kernelspec": {
   "display_name": "Python 3",
   "language": "python",
   "name": "python3"
  },
  "language_info": {
   "codemirror_mode": {
    "name": "ipython",
    "version": 3
   },
   "file_extension": ".py",
   "mimetype": "text/x-python",
   "name": "python",
   "nbconvert_exporter": "python",
   "pygments_lexer": "ipython3",
   "version": "3.11.2"
  },
  "orig_nbformat": 4
 },
 "nbformat": 4,
 "nbformat_minor": 2
}
